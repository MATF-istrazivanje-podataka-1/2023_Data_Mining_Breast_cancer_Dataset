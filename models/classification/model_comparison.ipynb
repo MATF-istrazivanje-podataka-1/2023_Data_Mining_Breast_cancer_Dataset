{
 "cells": [
  {
   "cell_type": "code",
   "execution_count": 99,
   "metadata": {},
   "outputs": [],
   "source": [
    "import numpy as np\n",
    "import pandas as pd\n",
    "import pickle\n",
    "import seaborn as sns\n",
    "import os"
   ]
  },
  {
   "cell_type": "code",
   "execution_count": 100,
   "metadata": {},
   "outputs": [],
   "source": [
    "from sklearn.neighbors import KNeighborsClassifier\n",
    "from xgboost import XGBClassifier\n",
    "from sklearn import svm\n",
    "\n",
    "from sklearn.model_selection import train_test_split\n",
    "from sklearn.metrics import accuracy_score, f1_score\n",
    "from imblearn.over_sampling import SMOTE\n",
    "from matplotlib import pyplot as plt\n",
    "from sklearn.model_selection import GridSearchCV\n",
    "from sklearn.metrics import confusion_matrix\n",
    "from sklearn.decomposition import PCA"
   ]
  },
  {
   "cell_type": "markdown",
   "metadata": {},
   "source": [
    "## Load datasets"
   ]
  },
  {
   "cell_type": "code",
   "execution_count": 101,
   "metadata": {},
   "outputs": [],
   "source": [
    "dataset_path = '../../dataset/additional_datasets/'\n",
    "dataset_name = 'Breast_GSE45827'\n",
    "dataset_norm_suffix = '_norm'\n",
    "dataset_pca_suffix = '_pca'\n",
    "\n",
    "xgboost_path = 'saved_models/XGBoost/'\n",
    "knn_path = 'saved_models/KNN/'\n",
    "svm_path = 'saved_models/SVM/'\n",
    "\n",
    "with open('../../preprocessing/class_mapping.pickle', 'rb') as handle:\n",
    "    class_mapping = pickle.load(handle)"
   ]
  },
  {
   "cell_type": "code",
   "execution_count": 102,
   "metadata": {},
   "outputs": [],
   "source": [
    "df_norm = pd.read_csv(dataset_path + dataset_name + dataset_norm_suffix + '.csv', index_col=0)\n",
    "X_norm = df_norm.drop('type', axis=1)\n",
    "y_norm = df_norm.type"
   ]
  },
  {
   "cell_type": "markdown",
   "metadata": {},
   "source": [
    "## Load best models for each type"
   ]
  },
  {
   "cell_type": "code",
   "execution_count": 103,
   "metadata": {},
   "outputs": [],
   "source": [
    "PCA_COMPONENTS = 90\n",
    "\n",
    "def create_file_name(path, pca_flag, smote_flag):\n",
    "    file_name = path\n",
    "    if pca_flag:\n",
    "        file_name += 'pca_'\n",
    "    else:\n",
    "        file_name += 'norm_'\n",
    "    if smote_flag:\n",
    "        file_name += 'res_'\n",
    "    \n",
    "    file_name += 'model.pickle'\n",
    "\n",
    "    return file_name"
   ]
  },
  {
   "cell_type": "code",
   "execution_count": 104,
   "metadata": {},
   "outputs": [],
   "source": [
    "XGBOOST_PCA = True\n",
    "XGBOOST_SMOTE = False\n",
    "\n",
    "xgboost_model = pickle.load(open(create_file_name(xgboost_path, XGBOOST_PCA, XGBOOST_SMOTE), 'rb'))"
   ]
  },
  {
   "cell_type": "code",
   "execution_count": 105,
   "metadata": {},
   "outputs": [],
   "source": [
    "SVM_PCA = False\n",
    "SVM_SMOTE = False\n",
    "\n",
    "svm_model = pickle.load(open(create_file_name(svm_path, SVM_PCA, SVM_SMOTE), 'rb'))"
   ]
  },
  {
   "cell_type": "code",
   "execution_count": 106,
   "metadata": {},
   "outputs": [],
   "source": [
    "KNN_PCA = False\n",
    "KNN_SMOTE = True\n",
    "\n",
    "knn_model = pickle.load(open(create_file_name(knn_path, KNN_PCA, KNN_SMOTE), 'rb'))"
   ]
  },
  {
   "cell_type": "markdown",
   "metadata": {},
   "source": [
    "## Test"
   ]
  },
  {
   "cell_type": "code",
   "execution_count": 107,
   "metadata": {},
   "outputs": [],
   "source": [
    "def test(X, y, model, pca=False):\n",
    "    X_train, X_test, y_train, y_test = train_test_split(X, y, test_size=0.2, random_state=42)\n",
    "\n",
    "    if pca:\n",
    "        pca = PCA(n_components=PCA_COMPONENTS)\n",
    "        pca.fit(X_train)\n",
    "        X_train = pca.transform(X_train)\n",
    "        X_test = pca.transform(X_test)\n",
    "\n",
    "    preds = model.predict(X_test)\n",
    "    return model, preds, y_test"
   ]
  },
  {
   "cell_type": "code",
   "execution_count": 108,
   "metadata": {},
   "outputs": [],
   "source": [
    "xgboost_model, xgboost_pred, xgboost_true = test(X_norm, y_norm, xgboost_model, XGBOOST_PCA)"
   ]
  },
  {
   "cell_type": "code",
   "execution_count": 109,
   "metadata": {},
   "outputs": [],
   "source": [
    "svm_model, svm_pred, svm_true = test(X_norm, y_norm, svm_model, SVM_PCA)"
   ]
  },
  {
   "cell_type": "code",
   "execution_count": 110,
   "metadata": {},
   "outputs": [],
   "source": [
    "knn_model, knn_pred, knn_true = test(X_norm, y_norm, knn_model, KNN_PCA)"
   ]
  },
  {
   "cell_type": "markdown",
   "metadata": {},
   "source": [
    "## Results"
   ]
  },
  {
   "cell_type": "code",
   "execution_count": 111,
   "metadata": {},
   "outputs": [],
   "source": [
    "f1_results = {\n",
    "    'XGBoost': f1_score(xgboost_true, xgboost_pred, average='weighted') * 100,\n",
    "    'SVM': f1_score(svm_true, svm_pred, average='weighted') * 100,\n",
    "    'KNN': f1_score(knn_true, knn_pred, average='weighted') * 100,\n",
    "}\n",
    "acc_results = {\n",
    "    'XGBoost': accuracy_score(xgboost_true, xgboost_pred) * 100,\n",
    "    'SVM': accuracy_score(svm_true, svm_pred) * 100,\n",
    "    'KNN': accuracy_score(knn_true, knn_pred) * 100\n",
    "}"
   ]
  },
  {
   "cell_type": "markdown",
   "metadata": {},
   "source": [
    "### Best model (F1 score)"
   ]
  },
  {
   "cell_type": "code",
   "execution_count": 112,
   "metadata": {},
   "outputs": [
    {
     "name": "stdout",
     "output_type": "stream",
     "text": [
      "{'XGBoost': 93.39507125585223, 'SVM': 90.58531601226099, 'KNN': 84.20772775611483}\n"
     ]
    },
    {
     "data": {
      "image/png": "[encoded data removed]",
      "text/plain": [
       "<Figure size 720x360 with 1 Axes>"
      ]
     },
     "metadata": {
      "needs_background": "light"
     },
     "output_type": "display_data"
    }
   ],
   "source": [
    "# Sort f1 results by value\n",
    "f1_results = dict(sorted(f1_results.items(), key=lambda item: item[1], reverse=True))\n",
    "print(f1_results)\n",
    "\n",
    "# Plot f1 results\n",
    "plt.figure(figsize=(10, 5))\n",
    "plt.title('F1 Score')\n",
    "plt.bar(f1_results.keys(), f1_results.values())\n",
    "plt.show()"
   ]
  },
  {
   "cell_type": "markdown",
   "metadata": {},
   "source": [
    "### Best models (Accuracy Score)"
   ]
  },
  {
   "cell_type": "code",
   "execution_count": 113,
   "metadata": {},
   "outputs": [
    {
     "name": "stdout",
     "output_type": "stream",
     "text": [
      "{'XGBoost': 93.54838709677419, 'SVM': 90.32258064516128, 'KNN': 83.87096774193549}\n"
     ]
    },
    {
     "data": {
      "image/png": "[encoded data removed]",
      "text/plain": [
       "<Figure size 720x360 with 1 Axes>"
      ]
     },
     "metadata": {
      "needs_background": "light"
     },
     "output_type": "display_data"
    }
   ],
   "source": [
    "# Sort f1 results by value\n",
    "acc_results = dict(sorted(acc_results.items(), key=lambda item: item[1], reverse=True))\n",
    "print(acc_results)\n",
    "\n",
    "# Plot f1 results\n",
    "plt.figure(figsize=(10, 5))\n",
    "plt.title('Accuracy Score')\n",
    "plt.bar(acc_results.keys(), acc_results.values())\n",
    "plt.show()"
   ]
  },
  {
   "cell_type": "markdown",
   "metadata": {},
   "source": [
    "## Ensemble"
   ]
  },
  {
   "cell_type": "code",
   "execution_count": 114,
   "metadata": {},
   "outputs": [],
   "source": [
    "def ensemble_model(X, y, models=[xgboost_model, knn_model, svm_model], pca_flag=[XGBOOST_PCA, KNN_PCA, SVM_PCA], smote_flag=[XGBOOST_SMOTE, KNN_SMOTE, SVM_SMOTE]):\n",
    "\n",
    "    preds = []\n",
    "    for ind in range(len(models)):\n",
    "        print(\"Fitting model \", ind)\n",
    "\n",
    "        X_train, X_test, y_train, y_test = train_test_split(X, y, test_size=0.2, random_state=42)\n",
    "        model = models[ind]\n",
    "        if pca_flag[ind]:\n",
    "            pca = PCA(n_components=PCA_COMPONENTS)\n",
    "            pca.fit(X_train)\n",
    "            X_train = pca.transform(X_train)\n",
    "            X_test = pca.transform(X_test)\n",
    "        if smote_flag[ind]:\n",
    "            sm = SMOTE(random_state=42)\n",
    "            X_train, y_train = sm.fit_resample(X_train, y_train)\n",
    "\n",
    "        print(\"F1 Score: \", f1_score(y_test, model.predict(X_test), average='weighted') * 100, '%')\n",
    "        \n",
    "        preds.append(model.predict(X_test))\n",
    "    \n",
    "    preds = np.array(preds)\n",
    "    print(preds)\n",
    "\n",
    "    preds = np.apply_along_axis(lambda x: np.argmax(np.bincount(x)), axis=0, arr=preds)\n",
    "\n",
    "    print(\"F1 score: \", f1_score(y_test, preds, average='weighted') * 100, '%')\n",
    "\n",
    "    return y_test, preds"
   ]
  },
  {
   "cell_type": "code",
   "execution_count": 115,
   "metadata": {},
   "outputs": [
    {
     "name": "stdout",
     "output_type": "stream",
     "text": [
      "Fitting model  0\n",
      "F1 Score:  96.835931470906 %\n",
      "Fitting model  1\n",
      "F1 Score:  84.20772775611483 %\n",
      "Fitting model  2\n",
      "F1 Score:  90.58531601226099 %\n",
      "[[2 0 2 2 5 0 2 1 1 3 1 1 0 0 0 5 4 5 1 5 0 2 0 5 5 5 4 1 4 0 0]\n",
      " [2 0 2 2 4 0 2 1 1 3 1 1 1 1 0 5 4 5 1 5 0 2 1 5 5 5 4 1 4 0 0]\n",
      " [2 0 2 2 5 0 2 1 1 3 1 1 1 0 0 5 4 5 1 5 0 2 1 5 5 5 4 1 4 0 0]]\n",
      "F1 score:  90.58531601226099 %\n"
     ]
    }
   ],
   "source": [
    "ensemble_true, ensemble_pred = ensemble_model(X_norm, y_norm)"
   ]
  },
  {
   "cell_type": "code",
   "execution_count": 116,
   "metadata": {},
   "outputs": [],
   "source": [
    "# Update f1_results with ensemble model\n",
    "f1_results['Ensemble'] = f1_score(ensemble_true, ensemble_pred, average='weighted') * 100"
   ]
  },
  {
   "cell_type": "code",
   "execution_count": 117,
   "metadata": {},
   "outputs": [
    {
     "name": "stdout",
     "output_type": "stream",
     "text": [
      "{'XGBoost': 93.39507125585223, 'SVM': 90.58531601226099, 'Ensemble': 90.58531601226099, 'KNN': 84.20772775611483}\n"
     ]
    },
    {
     "data": {
      "image/png": "[encoded data removed]",
      "text/plain": [
       "<Figure size 720x360 with 1 Axes>"
      ]
     },
     "metadata": {
      "needs_background": "light"
     },
     "output_type": "display_data"
    }
   ],
   "source": [
    "# Sort f1 results by value\n",
    "f1_results = dict(sorted(f1_results.items(), key=lambda item: item[1], reverse=True))\n",
    "print(f1_results)\n",
    "\n",
    "# Plot f1 results\n",
    "plt.figure(figsize=(10, 5))\n",
    "plt.title('F1 Score')\n",
    "plt.bar(f1_results.keys(), f1_results.values())\n",
    "plt.show()"
   ]
  },
  {
   "cell_type": "code",
   "execution_count": 124,
   "metadata": {},
   "outputs": [
    {
     "data": {
      "image/png": "[encoded data removed]",
      "text/plain": [
       "<Figure size 1000x1000 with 2 Axes>"
      ]
     },
     "metadata": {
      "needs_background": "light"
     },
     "output_type": "display_data"
    }
   ],
   "source": [
    "plt.figure(figsize=(10, 10), dpi=100)\n",
    "plt.title('Ensemble Confusion Matrix')\n",
    "sns.heatmap(confusion_matrix(ensemble_true, ensemble_pred), xticklabels=class_mapping, yticklabels=class_mapping, annot=True, fmt='g')\n",
    "plt.ylabel('True')\n",
    "plt.xlabel('Predicted')\n",
    "\n",
    "plt.show()"
   ]
  },
  {
   "cell_type": "markdown",
   "metadata": {},
   "source": [
    "## Conclusion"
   ]
  },
  {
   "cell_type": "markdown",
   "metadata": {},
   "source": [
    "We can conclude that XGBoost is better at predicting than ensemble method because of it's superiority in prediction"
   ]
  }
 ],
 "metadata": {
  "kernelspec": {
   "display_name": "base",
   "language": "python",
   "name": "python3"
  },
  "language_info": {
   "codemirror_mode": {
    "name": "ipython",
    "version": 3
   },
   "file_extension": ".py",
   "mimetype": "text/x-python",
   "name": "python",
   "nbconvert_exporter": "python",
   "pygments_lexer": "ipython3",
   "version": "3.9.7"
  },
  "orig_nbformat": 4
 },
 "nbformat": 4,
 "nbformat_minor": 2
}
